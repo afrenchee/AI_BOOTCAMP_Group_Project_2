{
 "cells": [
  {
   "cell_type": "code",
   "execution_count": 1,
   "metadata": {},
   "outputs": [],
   "source": [
    "# Dependencies\n",
    "import requests\n",
    "import time\n",
    "from dotenv import load_dotenv\n",
    "import os\n",
    "import pandas as pd\n",
    "import json\n",
    "import os\n",
    "from datetime import datetime\n",
    "## Load the FRED_API_KEY and BEA_API_KEY from the env file\n",
    "load_dotenv()\n",
    "FRED_API_KEY = os.getenv('FRED_API_KEY')\n",
    "BEA_API_KEY = os.getenv('BEA_API_KEY')\n"
   ]
  },
  {
   "cell_type": "markdown",
   "metadata": {},
   "source": [
    "APIs: Federal Reserve Economic Data (FRED) and Bureau of Economic Analysis (BEA)"
   ]
  },
  {
   "cell_type": "code",
   "execution_count": 19,
   "metadata": {},
   "outputs": [
    {
     "name": "stdout",
     "output_type": "stream",
     "text": [
      "https://api.stlouisfed.org/fred/series?series_id=FEDFUNDS&api_key=bbef18fc289463ae8704693b6c926d4c&file_type=json\n"
     ]
    }
   ],
   "source": [
    "# Set the base URL to NASA's DONKI API:\n",
    "fred_base_url = \"https://api.stlouisfed.org/fred/series?\"\n",
    "series_id=\"series_id=FEDFUNDS&\"\n",
    "\n",
    "\n",
    "# Build URL for FRED\n",
    "fred_query_url=fred_base_url+series_id+\"api_key=\"+FRED_API_KEY+\"&file_type=json\"\n",
    "print(fred_query_url)\n"
   ]
  },
  {
   "cell_type": "code",
   "execution_count": 7,
   "metadata": {},
   "outputs": [
    {
     "name": "stdout",
     "output_type": "stream",
     "text": [
      "https://apps.bea.gov/api/data/?&UserID=5DF4785B-8A5B-4C22-B8E7-673D1CE5B48D&method=GetData&DataSetName=NIPA&TableName=T20305&Frequency=M&Year=ALL&ResultFormat=JSON\n"
     ]
    }
   ],
   "source": [
    "bea_query_url = \"https://apps.bea.gov/api/data/?&UserID=\"+BEA_API_KEY+\"&method=GetData&DataSetName=NIPA&TableName=T20305&Frequency=M&Year=ALL&ResultFormat=JSON\"\n",
    "print(bea_query_url)"
   ]
  },
  {
   "cell_type": "code",
   "execution_count": 22,
   "metadata": {},
   "outputs": [
    {
     "name": "stdout",
     "output_type": "stream",
     "text": [
      "{\n",
      "    \"realtime_start\": \"2024-12-02\",\n",
      "    \"realtime_end\": \"2024-12-02\",\n",
      "    \"seriess\": [\n",
      "        {\n",
      "            \"id\": \"FEDFUNDS\",\n",
      "            \"realtime_start\": \"2024-12-02\",\n",
      "            \"realtime_end\": \"2024-12-02\",\n",
      "            \"title\": \"Federal Funds Effective Rate\",\n",
      "            \"observation_start\": \"1954-07-01\",\n",
      "            \"observation_end\": \"2024-11-01\",\n",
      "            \"frequency\": \"Monthly\",\n",
      "            \"frequency_short\": \"M\",\n",
      "            \"units\": \"Percent\",\n",
      "            \"units_short\": \"%\",\n",
      "            \"seasonal_adjustment\": \"Not Seasonally Adjusted\",\n",
      "            \"seasonal_adjustment_short\": \"NSA\",\n",
      "            \"last_updated\": \"2024-12-02 15:17:22-06\",\n",
      "            \"popularity\": 98,\n",
      "            \"notes\": \"Averages of daily figures. \\n\\nFor additional historical federal funds rate data, please see  Daily Federal Funds Rate from 1928-1954 (https://fred.stlouisfed.org/categories/33951).\\n\\nThe federal funds rate is the interest rate at which depository institutions trade federal funds (balances held at Federal Reserve Banks) with each other overnight. When a depository institution has surplus balances in its reserve account, it lends to other banks in need of larger balances. In simpler terms, a bank with excess cash, which is often referred to as liquidity, will lend to another bank that needs to quickly raise liquidity. (1) The rate that the borrowing institution pays to the lending institution is determined between the two banks; the weighted average rate for all of these types of negotiations is called the effective federal funds rate.(2) The effective federal funds rate is essentially determined by the market but is influenced by the Federal Reserve through open market operations to reach the federal funds rate target.(2)\\nThe Federal Open Market Committee (FOMC) meets eight times a year to determine the federal funds target rate. As previously stated, this rate influences the effective federal funds rate through open market operations or by buying and selling of government bonds (government debt).(2) More specifically, the Federal Reserve decreases liquidity by selling government bonds, thereby raising the federal funds rate because banks have less liquidity to trade with other banks. Similarly, the Federal Reserve can increase liquidity by buying government bonds, decreasing the federal funds rate because banks have excess liquidity for trade. Whether the Federal Reserve wants to buy or sell bonds depends on the state of the economy. If the FOMC believes the economy is growing too fast and inflation pressures are inconsistent with the dual mandate of the Federal Reserve, the Committee may set a higher federal funds rate target to temper economic activity. In the opposing scenario, the FOMC may set a lower federal funds rate target to spur greater economic activity. Therefore, the FOMC must observe the current state of the economy to determine the best course of monetary policy that will maximize economic growth while adhering to the dual mandate set forth by Congress. In making its monetary policy decisions, the FOMC considers a wealth of economic data, such as: trends in prices and wages, employment, consumer spending and income, business investments, and foreign exchange markets.\\nThe federal funds rate is the central interest rate in the U.S. financial market. It influences other interest rates such as the prime rate, which is the rate banks charge their customers with higher credit ratings. Additionally, the federal funds rate indirectly influences longer- term interest rates such as mortgages, loans, and savings, all of which are very important to consumer wealth and confidence.(2)\\nReferences\\n(1) Federal Reserve Bank of New York. \\\"Federal funds.\\\" Fedpoints, August 2007.\\n(2) Board of Governors of the Federal Reserve System. \\\"Monetary Policy (https://www.federalreserve.gov/monetarypolicy.htm)\\\".\"\n",
      "        }\n",
      "    ]\n",
      "}\n"
     ]
    }
   ],
   "source": [
    "fred_response_data = requests.get(fred_query_url)\n",
    "fred_data = fred_response_data.json()\n",
    "print(json.dumps(fred_data, indent=4))"
   ]
  },
  {
   "cell_type": "code",
   "execution_count": 14,
   "metadata": {},
   "outputs": [
    {
     "name": "stdout",
     "output_type": "stream",
     "text": [
      "{\n",
      "    \"BEAAPI\": {\n",
      "        \"Request\": {\n",
      "            \"RequestParam\": [\n",
      "                {\n",
      "                    \"ParameterName\": \"USERID\",\n",
      "                    \"ParameterValue\": \"5DF4785B-8A5B-4C22-B8E7-673D1CE5B48D\"\n",
      "                },\n",
      "                {\n",
      "                    \"ParameterName\": \"METHOD\",\n",
      "                    \"ParameterValue\": \"GETDATA\"\n",
      "                },\n",
      "                {\n",
      "                    \"ParameterName\": \"DATASETNAME\",\n",
      "                    \"ParameterValue\": \"NIPA\"\n",
      "                },\n",
      "                {\n",
      "                    \"ParameterName\": \"TABLENAME\",\n",
      "                    \"ParameterValue\": \"T20305\"\n",
      "                },\n",
      "                {\n",
      "                    \"ParameterName\": \"FREQUENCY\",\n",
      "                    \"ParameterValue\": \"M\"\n",
      "                },\n",
      "                {\n",
      "                    \"ParameterName\": \"YEAR\",\n",
      "                    \"ParameterValue\": \"ALL\"\n",
      "                },\n",
      "                {\n",
      "                    \"ParameterName\": \"RESULTFORMAT\",\n",
      "                    \"ParameterValue\": \"JSON\"\n",
      "                },\n",
      "                {\n",
      "                    \"ParameterName\": \"ShowMillions\",\n",
      "                    \"ParameterValue\": \"N\"\n",
      "                }\n",
      "            ]\n",
      "        },\n",
      "        \"Error\": {\n",
      "            \"APIErrorDescription\": \"Error retrieving NIPA data.\",\n",
      "            \"APIErrorCode\": \"201\",\n",
      "            \"ErrorDetail\": {\n",
      "                \"Description\": \"Data for this table and frequency are not currently available. Please check BEAs release schedule for more information.\"\n",
      "            }\n",
      "        }\n",
      "    }\n",
      "}\n"
     ]
    }
   ],
   "source": [
    "bea_response_data = requests.get(bea_query_url)\n",
    "bea_data = bea_response_data.json()\n",
    "print(json.dumps(bea_data, indent=4))"
   ]
  }
 ],
 "metadata": {
  "kernelspec": {
   "display_name": "dev",
   "language": "python",
   "name": "python3"
  },
  "language_info": {
   "codemirror_mode": {
    "name": "ipython",
    "version": 3
   },
   "file_extension": ".py",
   "mimetype": "text/x-python",
   "name": "python",
   "nbconvert_exporter": "python",
   "pygments_lexer": "ipython3",
   "version": "3.10.14"
  }
 },
 "nbformat": 4,
 "nbformat_minor": 2
}
