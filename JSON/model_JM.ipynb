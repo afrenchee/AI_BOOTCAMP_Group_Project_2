{
 "cells": [
  {
   "cell_type": "code",
   "execution_count": 2,
   "metadata": {},
   "outputs": [],
   "source": [
    "#Predicting Federal Reserve Interest Rate Decisions\n",
    "#Importing Libraries\n",
    "import pandas as pd\n",
    "import numpy as np\n",
    "from sklearn.model_selection import train_test_split\n",
    "from sklearn.linear_model import LogisticRegression\n",
    "from sklearn.metrics import accuracy_score\n"
   ]
  },
  {
   "cell_type": "code",
   "execution_count": 5,
   "metadata": {},
   "outputs": [
    {
     "data": {
      "text/html": [
       "<div>\n",
       "<style scoped>\n",
       "    .dataframe tbody tr th:only-of-type {\n",
       "        vertical-align: middle;\n",
       "    }\n",
       "\n",
       "    .dataframe tbody tr th {\n",
       "        vertical-align: top;\n",
       "    }\n",
       "\n",
       "    .dataframe thead th {\n",
       "        text-align: right;\n",
       "    }\n",
       "</style>\n",
       "<table border=\"1\" class=\"dataframe\">\n",
       "  <thead>\n",
       "    <tr style=\"text-align: right;\">\n",
       "      <th></th>\n",
       "      <th>Date</th>\n",
       "      <th>PCE</th>\n",
       "      <th>Federal Reserve Rate</th>\n",
       "      <th>FedRate Movement</th>\n",
       "    </tr>\n",
       "  </thead>\n",
       "  <tbody>\n",
       "    <tr>\n",
       "      <th>0</th>\n",
       "      <td>1959-01-01</td>\n",
       "      <td>306091</td>\n",
       "      <td>2.48</td>\n",
       "      <td>0.00</td>\n",
       "    </tr>\n",
       "    <tr>\n",
       "      <th>1</th>\n",
       "      <td>1959-02-01</td>\n",
       "      <td>309554</td>\n",
       "      <td>2.43</td>\n",
       "      <td>-0.05</td>\n",
       "    </tr>\n",
       "    <tr>\n",
       "      <th>2</th>\n",
       "      <td>1959-03-01</td>\n",
       "      <td>312702</td>\n",
       "      <td>2.80</td>\n",
       "      <td>0.37</td>\n",
       "    </tr>\n",
       "    <tr>\n",
       "      <th>3</th>\n",
       "      <td>1959-04-01</td>\n",
       "      <td>312193</td>\n",
       "      <td>2.96</td>\n",
       "      <td>0.16</td>\n",
       "    </tr>\n",
       "    <tr>\n",
       "      <th>4</th>\n",
       "      <td>1959-05-01</td>\n",
       "      <td>316130</td>\n",
       "      <td>2.90</td>\n",
       "      <td>-0.06</td>\n",
       "    </tr>\n",
       "  </tbody>\n",
       "</table>\n",
       "</div>"
      ],
      "text/plain": [
       "         Date     PCE  Federal Reserve Rate  FedRate Movement\n",
       "0  1959-01-01  306091                  2.48              0.00\n",
       "1  1959-02-01  309554                  2.43             -0.05\n",
       "2  1959-03-01  312702                  2.80              0.37\n",
       "3  1959-04-01  312193                  2.96              0.16\n",
       "4  1959-05-01  316130                  2.90             -0.06"
      ]
     },
     "execution_count": 5,
     "metadata": {},
     "output_type": "execute_result"
    }
   ],
   "source": [
    "#Loading the data\n",
    "data = pd.read_csv('AI_BOOTCAMP_Group_Project_2/cleaned/PCE_FedFunds.csv')\n",
    "\n",
    "#Checking the data\n",
    "data.head()"
   ]
  },
  {
   "cell_type": "code",
   "execution_count": 11,
   "metadata": {},
   "outputs": [
    {
     "data": {
      "text/html": [
       "<div>\n",
       "<style scoped>\n",
       "    .dataframe tbody tr th:only-of-type {\n",
       "        vertical-align: middle;\n",
       "    }\n",
       "\n",
       "    .dataframe tbody tr th {\n",
       "        vertical-align: top;\n",
       "    }\n",
       "\n",
       "    .dataframe thead th {\n",
       "        text-align: right;\n",
       "    }\n",
       "</style>\n",
       "<table border=\"1\" class=\"dataframe\">\n",
       "  <thead>\n",
       "    <tr style=\"text-align: right;\">\n",
       "      <th></th>\n",
       "      <th>Date</th>\n",
       "      <th>PCE</th>\n",
       "      <th>Federal Reserve Rate</th>\n",
       "      <th>FedRate Movement</th>\n",
       "      <th>Rate Movement</th>\n",
       "    </tr>\n",
       "  </thead>\n",
       "  <tbody>\n",
       "    <tr>\n",
       "      <th>0</th>\n",
       "      <td>1959-01-01</td>\n",
       "      <td>306091</td>\n",
       "      <td>2.48</td>\n",
       "      <td>0.00</td>\n",
       "      <td>No Change</td>\n",
       "    </tr>\n",
       "    <tr>\n",
       "      <th>1</th>\n",
       "      <td>1959-02-01</td>\n",
       "      <td>309554</td>\n",
       "      <td>2.43</td>\n",
       "      <td>-0.05</td>\n",
       "      <td>No Change</td>\n",
       "    </tr>\n",
       "    <tr>\n",
       "      <th>2</th>\n",
       "      <td>1959-03-01</td>\n",
       "      <td>312702</td>\n",
       "      <td>2.80</td>\n",
       "      <td>0.37</td>\n",
       "      <td>Increase</td>\n",
       "    </tr>\n",
       "    <tr>\n",
       "      <th>3</th>\n",
       "      <td>1959-04-01</td>\n",
       "      <td>312193</td>\n",
       "      <td>2.96</td>\n",
       "      <td>0.16</td>\n",
       "      <td>No Change</td>\n",
       "    </tr>\n",
       "    <tr>\n",
       "      <th>4</th>\n",
       "      <td>1959-05-01</td>\n",
       "      <td>316130</td>\n",
       "      <td>2.90</td>\n",
       "      <td>-0.06</td>\n",
       "      <td>No Change</td>\n",
       "    </tr>\n",
       "    <tr>\n",
       "      <th>5</th>\n",
       "      <td>1959-06-01</td>\n",
       "      <td>318193</td>\n",
       "      <td>3.39</td>\n",
       "      <td>0.49</td>\n",
       "      <td>Increase</td>\n",
       "    </tr>\n",
       "    <tr>\n",
       "      <th>6</th>\n",
       "      <td>1959-07-01</td>\n",
       "      <td>317787</td>\n",
       "      <td>3.47</td>\n",
       "      <td>0.08</td>\n",
       "      <td>No Change</td>\n",
       "    </tr>\n",
       "    <tr>\n",
       "      <th>7</th>\n",
       "      <td>1959-08-01</td>\n",
       "      <td>320161</td>\n",
       "      <td>3.50</td>\n",
       "      <td>0.03</td>\n",
       "      <td>No Change</td>\n",
       "    </tr>\n",
       "    <tr>\n",
       "      <th>8</th>\n",
       "      <td>1959-09-01</td>\n",
       "      <td>324228</td>\n",
       "      <td>3.76</td>\n",
       "      <td>0.26</td>\n",
       "      <td>Increase</td>\n",
       "    </tr>\n",
       "    <tr>\n",
       "      <th>9</th>\n",
       "      <td>1959-10-01</td>\n",
       "      <td>322794</td>\n",
       "      <td>3.98</td>\n",
       "      <td>0.22</td>\n",
       "      <td>No Change</td>\n",
       "    </tr>\n",
       "  </tbody>\n",
       "</table>\n",
       "</div>"
      ],
      "text/plain": [
       "         Date     PCE  Federal Reserve Rate  FedRate Movement Rate Movement\n",
       "0  1959-01-01  306091                  2.48              0.00     No Change\n",
       "1  1959-02-01  309554                  2.43             -0.05     No Change\n",
       "2  1959-03-01  312702                  2.80              0.37      Increase\n",
       "3  1959-04-01  312193                  2.96              0.16     No Change\n",
       "4  1959-05-01  316130                  2.90             -0.06     No Change\n",
       "5  1959-06-01  318193                  3.39              0.49      Increase\n",
       "6  1959-07-01  317787                  3.47              0.08     No Change\n",
       "7  1959-08-01  320161                  3.50              0.03     No Change\n",
       "8  1959-09-01  324228                  3.76              0.26      Increase\n",
       "9  1959-10-01  322794                  3.98              0.22     No Change"
      ]
     },
     "execution_count": 11,
     "metadata": {},
     "output_type": "execute_result"
    }
   ],
   "source": [
    "#Base the movement classification on the standard deviation of the data start with .5\n",
    "#adjust for better accuracy\n",
    "sd = data['FedRate Movement'].std()\n",
    "\n",
    "#Define threshold for movement classificaiton\n",
    "upper_threshold = .5 * sd\n",
    "lower_threshold = -.5 * sd\n",
    "\n",
    "#assign labels\n",
    "def classify_rate_change(change):\n",
    "    if change > upper_threshold:\n",
    "        return 'Increase'\n",
    "    elif change < lower_threshold:\n",
    "        return 'Decrease'\n",
    "    else:\n",
    "        return 'No Change'\n",
    "    \n",
    "#Create a new column for the classification\n",
    "data['Rate Movement'] = data['FedRate Movement'].apply(classify_rate_change)\n",
    "\n",
    "#Checking the data\n",
    "data.head(10)"
   ]
  },
  {
   "cell_type": "code",
   "execution_count": 12,
   "metadata": {},
   "outputs": [
    {
     "data": {
      "text/plain": [
       "Rate Movement\n",
       "No Change    564\n",
       "Decrease     120\n",
       "Increase     106\n",
       "Name: count, dtype: int64"
      ]
     },
     "execution_count": 12,
     "metadata": {},
     "output_type": "execute_result"
    }
   ],
   "source": [
    "#Check the value counts of the new column\n",
    "data['Rate Movement'].value_counts()"
   ]
  },
  {
   "cell_type": "code",
   "execution_count": 14,
   "metadata": {},
   "outputs": [
    {
     "name": "stdout",
     "output_type": "stream",
     "text": [
      "Data Saved\n"
     ]
    }
   ],
   "source": [
    "#Save the data\n",
    "data.to_csv('AI_BOOTCAMP_Group_Project_2/processed/PCE_FedFunds_Classified.csv', index=False)\n",
    "\n",
    "#confirm the data was saved\n",
    "print('Data Saved')\n"
   ]
  },
  {
   "cell_type": "code",
   "execution_count": null,
   "metadata": {},
   "outputs": [],
   "source": []
  }
 ],
 "metadata": {
  "kernelspec": {
   "display_name": "dev1",
   "language": "python",
   "name": "python3"
  },
  "language_info": {
   "codemirror_mode": {
    "name": "ipython",
    "version": 3
   },
   "file_extension": ".py",
   "mimetype": "text/x-python",
   "name": "python",
   "nbconvert_exporter": "python",
   "pygments_lexer": "ipython3",
   "version": "3.12.4"
  }
 },
 "nbformat": 4,
 "nbformat_minor": 2
}
