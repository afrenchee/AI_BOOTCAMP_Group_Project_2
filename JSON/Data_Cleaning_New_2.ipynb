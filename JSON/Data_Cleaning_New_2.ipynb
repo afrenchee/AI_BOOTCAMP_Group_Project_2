{
 "cells": [
  {
   "cell_type": "code",
   "execution_count": 1,
   "metadata": {},
   "outputs": [],
   "source": [
    "#Import the necessary libraries\n",
    "#Import the necessary libraries\n",
    "import os\n",
    "import pandas as pd"
   ]
  },
  {
   "cell_type": "code",
   "execution_count": 2,
   "metadata": {},
   "outputs": [
    {
     "name": "stdout",
     "output_type": "stream",
     "text": [
      "                                                 0    \\\n",
      "0  Table 2.3.5U. Personal Consumption Expenditure...   \n",
      "1  Table 2.3.5U. Personal Consumption Expenditure...   \n",
      "2  Last Revised on: November 27, 2024 - Next Rele...   \n",
      "3                                               Line   \n",
      "4                                               Line   \n",
      "5                                                NaN   \n",
      "6                                                  1   \n",
      "7                                                  2   \n",
      "8                                                  3   \n",
      "9                                                  4   \n",
      "\n",
      "                                                 1       2       3       4    \\\n",
      "0                                                NaN     NaN     NaN     NaN   \n",
      "1                                                NaN     NaN     NaN     NaN   \n",
      "2                                                NaN     NaN     NaN     NaN   \n",
      "3                                                NaN    1959    1959    1959   \n",
      "4                                                NaN     JAN     FEB     MAR   \n",
      "5  Personal consumption expenditures by major typ...     NaN     NaN     NaN   \n",
      "6            Personal consumption expenditures (PCE)  306091  309554  312702   \n",
      "7                                              Goods  167411  169596  172162   \n",
      "8                                      Durable goods   42295   44207   44445   \n",
      "9                           Motor vehicles and parts   16904   18467   18900   \n",
      "\n",
      "      5       6       7       8       9    ...      292      293      294  \\\n",
      "0     NaN     NaN     NaN     NaN     NaN  ...      NaN      NaN      NaN   \n",
      "1     NaN     NaN     NaN     NaN     NaN  ...      NaN      NaN      NaN   \n",
      "2     NaN     NaN     NaN     NaN     NaN  ...      NaN      NaN      NaN   \n",
      "3    1959    1959    1959    1959    1959  ...     1983     1983     1983   \n",
      "4     APR     MAY     JUN     JUL     AUG  ...      MAR      APR      MAY   \n",
      "5     NaN     NaN     NaN     NaN     NaN  ...      NaN      NaN      NaN   \n",
      "6  312193  316130  318193  317787  320161  ...  2202774  2226393  2245902   \n",
      "7  170680  173326  173845  172707  174065  ...   934658   947027   961565   \n",
      "8   45065   45359   45971   45408   46189  ...   271571   281694   288823   \n",
      "9   19436   19315   19254   19349   19906  ...   106742   116467   120357   \n",
      "\n",
      "       295      296      297      298      299      300      301  \n",
      "0      NaN      NaN      NaN      NaN      NaN      NaN      NaN  \n",
      "1      NaN      NaN      NaN      NaN      NaN      NaN      NaN  \n",
      "2      NaN      NaN      NaN      NaN      NaN      NaN      NaN  \n",
      "3     1983     1983     1983     1983     1983     1983     1983  \n",
      "4      JUN      JUL      AUG      SEP      OCT      NOV      DEC  \n",
      "5      NaN      NaN      NaN      NaN      NaN      NaN      NaN  \n",
      "6  2276020  2304398  2320429  2334858  2357587  2366269  2393632  \n",
      "7   979304   989705   989369   993320  1007469  1012388  1027519  \n",
      "8   298234   303363   301169   302552   313652   315864   328294  \n",
      "9   127823   129403   126622   125242   134051   132741   144566  \n",
      "\n",
      "[10 rows x 302 columns]\n",
      "                                                 0    \\\n",
      "0  Table 2.3.5U. Personal Consumption Expenditure...   \n",
      "1  Table 2.3.5U. Personal Consumption Expenditure...   \n",
      "2  Last Revised on: November 27, 2024 - Next Rele...   \n",
      "3                                               Line   \n",
      "4                                               Line   \n",
      "5                                                NaN   \n",
      "6                                                  1   \n",
      "7                                                  2   \n",
      "8                                                  3   \n",
      "9                                                  4   \n",
      "\n",
      "                                                 1        2        3    \\\n",
      "0                                                NaN      NaN      NaN   \n",
      "1                                                NaN      NaN      NaN   \n",
      "2                                                NaN      NaN      NaN   \n",
      "3                                                NaN     1984     1984   \n",
      "4                                                NaN      JAN      FEB   \n",
      "5  Personal consumption expenditures by major typ...      NaN      NaN   \n",
      "6            Personal consumption expenditures (PCE)  2419379  2403535   \n",
      "7                                              Goods  1047339  1030217   \n",
      "8                                      Durable goods   336814   328742   \n",
      "9                           Motor vehicles and parts   147453   141147   \n",
      "\n",
      "       4        5        6        7        8        9    ...       482  \\\n",
      "0      NaN      NaN      NaN      NaN      NaN      NaN  ...       NaN   \n",
      "1      NaN      NaN      NaN      NaN      NaN      NaN  ...       NaN   \n",
      "2      NaN      NaN      NaN      NaN      NaN      NaN  ...       NaN   \n",
      "3     1984     1984     1984     1984     1984     1984  ...      2024   \n",
      "4      MAR      APR      MAY      JUN      JUL      AUG  ...       JAN   \n",
      "5      NaN      NaN      NaN      NaN      NaN      NaN  ...       NaN   \n",
      "6  2431581  2457516  2474478  2495634  2494602  2512193  ...  19308453   \n",
      "7  1036129  1052598  1061331  1077001  1061707  1061597  ...   6115814   \n",
      "8   328760   336004   341679   346123   341511   339745  ...   2112980   \n",
      "9   141589   144201   148765   148736   148199   144352  ...    704032   \n",
      "\n",
      "        483       484       485       486       487       488       489  \\\n",
      "0       NaN       NaN       NaN       NaN       NaN       NaN       NaN   \n",
      "1       NaN       NaN       NaN       NaN       NaN       NaN       NaN   \n",
      "2       NaN       NaN       NaN       NaN       NaN       NaN       NaN   \n",
      "3      2024      2024      2024      2024      2024      2024      2024   \n",
      "4       FEB       MAR       APR       MAY       JUN       JUL       AUG   \n",
      "5       NaN       NaN       NaN       NaN       NaN       NaN       NaN   \n",
      "6  19412699  19553172  19603274  19697331  19747490  19859264  19898041   \n",
      "7   6134233   6196511   6185979   6218874   6209021   6267524   6231547   \n",
      "8   2128647   2140322   2129314   2151688   2144499   2171127   2150963   \n",
      "9    717274    714321    717296    728074    701425    732191    713393   \n",
      "\n",
      "        490       491  \n",
      "0       NaN       NaN  \n",
      "1       NaN       NaN  \n",
      "2       NaN       NaN  \n",
      "3      2024      2024  \n",
      "4       SEP       OCT  \n",
      "5       NaN       NaN  \n",
      "6  20027196  20099540  \n",
      "7   6293735   6291398  \n",
      "8   2182463   2190046  \n",
      "9    727430    734397  \n",
      "\n",
      "[10 rows x 492 columns]\n"
     ]
    }
   ],
   "source": [
    "#Load the data\n",
    "PCE_data1 = pd.read_csv('../raw/PCE_1959_1983.csv', header=None)\n",
    "PCE_data2 = pd.read_csv('../raw/PCE_1984_2024.csv', header=None)\n",
    "\n",
    "#Check the data\n",
    "print(PCE_data1.head(10))\n",
    "print(PCE_data2.head(10))"
   ]
  },
  {
   "cell_type": "code",
   "execution_count": 3,
   "metadata": {},
   "outputs": [
    {
     "name": "stdout",
     "output_type": "stream",
     "text": [
      "years:\n",
      " 2    1959\n",
      "3    1959\n",
      "4    1959\n",
      "5    1959\n",
      "6    1959\n",
      "Name: 3, dtype: object\n",
      "months:\n",
      " 2    JAN\n",
      "3    FEB\n",
      "4    MAR\n",
      "5    APR\n",
      "6    MAY\n",
      "Name: 4, dtype: object\n",
      "pce_values:\n",
      " 2    306091\n",
      "3    309554\n",
      "4    312702\n",
      "5    312193\n",
      "6    316130\n",
      "Name: 6, dtype: object\n"
     ]
    }
   ],
   "source": [
    "#Extract relavant rows\n",
    "#Years row 4\n",
    "years = PCE_data1.iloc[3, 2:]\n",
    "\n",
    "\n",
    "#Months row 5\n",
    "months = PCE_data1.iloc[4, 2:]\n",
    "\n",
    "\n",
    "#PCE row 7\n",
    "pce_values = PCE_data1.iloc[6, 2:]\n",
    "\n",
    "#Ignore all other rows\n",
    "\n",
    "#Check the extracted data\n",
    "print(\"years:\\n\", years.head())\n",
    "print(\"months:\\n\", months.head())\n",
    "print(\"pce_values:\\n\", pce_values.head())"
   ]
  },
  {
   "cell_type": "code",
   "execution_count": 4,
   "metadata": {},
   "outputs": [
    {
     "name": "stdout",
     "output_type": "stream",
     "text": [
      "Mapped Months (numeric):\n",
      " 2    01\n",
      "3    02\n",
      "4    03\n",
      "5    04\n",
      "6    05\n",
      "Name: 4, dtype: object\n",
      "Unmapped Months (NaN):\n",
      " Series([], Name: 4, dtype: object)\n"
     ]
    }
   ],
   "source": [
    "#Combine year and month to create a date column\n",
    "#Convert month names to numeric values using mapping dictionary\n",
    "month_map = {\n",
    "    'JAN': '01', 'FEB': '02', 'MAR': '03', 'APR': '04',\n",
    "    'MAY': '05', 'JUN': '06', 'JUL': '07', 'AUG': '08',\n",
    "    'SEP': '09', 'OCT': '10', 'NOV': '11', 'DEC': '12'\n",
    "}\n",
    "#Map months to numeric values\n",
    "months_numeric = months.map(month_map)\n",
    "\n",
    "#Combine Year and Month into datetime format ex: 01/01/1959 for January 1959 and assign it to a new column called 'Date'\n",
    "dates = pd.to_datetime(\n",
    "    pd.DataFrame({'year': years, 'month': months_numeric, 'day': '01'}),\n",
    "    errors='coerce'\n",
    ")\n",
    "#Check mapping\n",
    "print(\"Mapped Months (numeric):\\n\", months_numeric.head())\n",
    "print(\"Unmapped Months (NaN):\\n\", months[months_numeric.isna()])"
   ]
  },
  {
   "cell_type": "code",
   "execution_count": 5,
   "metadata": {},
   "outputs": [
    {
     "name": "stdout",
     "output_type": "stream",
     "text": [
      "Date Strings:\n",
      " 2    1959-01-01\n",
      "3    1959-02-01\n",
      "4    1959-03-01\n",
      "5    1959-04-01\n",
      "6    1959-05-01\n",
      "dtype: object\n"
     ]
    }
   ],
   "source": [
    "#Combine years and months into date strings\n",
    "date_strings = years + '-' + months_numeric + '-01'\n",
    "\n",
    "#Check the date strings\n",
    "print(\"Date Strings:\\n\", date_strings.head())"
   ]
  },
  {
   "cell_type": "code",
   "execution_count": 6,
   "metadata": {},
   "outputs": [
    {
     "name": "stdout",
     "output_type": "stream",
     "text": [
      "Dates:\n",
      " 2   1959-01-01\n",
      "3   1959-02-01\n",
      "4   1959-03-01\n",
      "5   1959-04-01\n",
      "6   1959-05-01\n",
      "dtype: datetime64[ns]\n",
      "Number of invalid dates (NaT):\n",
      " 0\n"
     ]
    }
   ],
   "source": [
    "#Conver the date strings to datetime format\n",
    "dates = pd.to_datetime(date_strings, format='%Y-%m-%d', errors='coerce')\n",
    "\n",
    "#Check the dates\n",
    "print(\"Dates:\\n\", dates.head())\n",
    "print(\"Number of invalid dates (NaT):\\n\", dates.isna().sum())"
   ]
  },
  {
   "cell_type": "code",
   "execution_count": 7,
   "metadata": {},
   "outputs": [
    {
     "name": "stdout",
     "output_type": "stream",
     "text": [
      "        Date     PCE\n",
      "2 1959-01-01  306091\n",
      "3 1959-02-01  309554\n",
      "4 1959-03-01  312702\n",
      "5 1959-04-01  312193\n",
      "6 1959-05-01  316130\n",
      "Shape of the cleaned DataFrame: (300, 2)\n"
     ]
    }
   ],
   "source": [
    "#Create a new DataFrame with columns 'Date' and 'PCE'\n",
    "PCE_cleaned = pd.DataFrame({\n",
    "    'Date': dates,\n",
    "    'PCE': pd.to_numeric(pce_values, errors='coerce')\n",
    "})\n",
    "#Drop rows with missing values\n",
    "PCE_cleaned = PCE_cleaned.dropna()\n",
    "\n",
    "#Check the cleaned data\n",
    "print(PCE_cleaned.head())\n",
    "print(\"Shape of the cleaned DataFrame:\", PCE_cleaned.shape)"
   ]
  },
  {
   "cell_type": "code",
   "execution_count": 12,
   "metadata": {},
   "outputs": [],
   "source": [
    "#Save the cleaned data\n",
    "output_path = '../cleaned/PCE_cleaned.csv'\n",
    "PCE_cleaned.to_csv(output_path, index=False)"
   ]
  },
  {
   "cell_type": "code",
   "execution_count": 8,
   "metadata": {},
   "outputs": [
    {
     "name": "stdout",
     "output_type": "stream",
     "text": [
      "Years:\n",
      " 2    1959\n",
      "3    1959\n",
      "4    1959\n",
      "5    1959\n",
      "6    1959\n",
      "Name: 3, dtype: object\n",
      "Unique Years:\n",
      " ['1959' '1960' '1961' '1962' '1963' '1964' '1965' '1966' '1967' '1968'\n",
      " '1969' '1970' '1971' '1972' '1973' '1974' '1975' '1976' '1977' '1978'\n",
      " '1979' '1980' '1981' '1982' '1983']\n",
      "Data type of 'years': object\n"
     ]
    }
   ],
   "source": [
    "#Error Checking\n",
    "print(\"Years:\\n\", years.head())\n",
    "print(\"Unique Years:\\n\", years.unique())\n",
    "print(\"Data type of 'years':\", years.dtype)"
   ]
  },
  {
   "cell_type": "code",
   "execution_count": 9,
   "metadata": {},
   "outputs": [
    {
     "name": "stdout",
     "output_type": "stream",
     "text": [
      "Months (numeric):\n",
      " 2    01\n",
      "3    02\n",
      "4    03\n",
      "5    04\n",
      "6    05\n",
      "Name: 4, dtype: object\n",
      "Unique Months:\n",
      " ['01' '02' '03' '04' '05' '06' '07' '08' '09' '10' '11' '12']\n",
      "Data type of 'months_numeric': object\n"
     ]
    }
   ],
   "source": [
    "#Error Checking\n",
    "print(\"Months (numeric):\\n\", months_numeric.head())\n",
    "print(\"Unique Months:\\n\", months_numeric.unique())\n",
    "print(\"Data type of 'months_numeric':\", months_numeric.dtype)"
   ]
  },
  {
   "cell_type": "code",
   "execution_count": 10,
   "metadata": {},
   "outputs": [
    {
     "name": "stdout",
     "output_type": "stream",
     "text": [
      "Months (raw):\n",
      " 2    JAN\n",
      "3    FEB\n",
      "4    MAR\n",
      "5    APR\n",
      "6    MAY\n",
      "Name: 4, dtype: object\n",
      "Unique Months (raw):\n",
      " ['JAN' 'FEB' 'MAR' 'APR' 'MAY' 'JUN' 'JUL' 'AUG' 'SEP' 'OCT' 'NOV' 'DEC']\n"
     ]
    }
   ],
   "source": [
    "#Months error checking\n",
    "print(\"Months (raw):\\n\", months.head())\n",
    "print(\"Unique Months (raw):\\n\", months.unique())"
   ]
  },
  {
   "cell_type": "code",
   "execution_count": 11,
   "metadata": {},
   "outputs": [
    {
     "name": "stdout",
     "output_type": "stream",
     "text": [
      "Length of years: 300\n",
      "Length of months_numeric: 300\n"
     ]
    }
   ],
   "source": [
    "#Error Checking\n",
    "# Check lengths\n",
    "print(\"Length of years:\", len(years))\n",
    "print(\"Length of months_numeric:\", len(months_numeric))"
   ]
  },
  {
   "cell_type": "code",
   "execution_count": 13,
   "metadata": {},
   "outputs": [
    {
     "name": "stdout",
     "output_type": "stream",
     "text": [
      "Years (PCE_data2):\n",
      " 2    1984\n",
      "3    1984\n",
      "4    1984\n",
      "5    1984\n",
      "6    1984\n",
      "Name: 3, dtype: object\n",
      "Months (PCE_data2):\n",
      " 2    JAN\n",
      "3    FEB\n",
      "4    MAR\n",
      "5    APR\n",
      "6    MAY\n",
      "Name: 4, dtype: object\n",
      "PCE Values (PCE_data2):\n",
      " 2    2419379\n",
      "3    2403535\n",
      "4    2431581\n",
      "5    2457516\n",
      "6    2474478\n",
      "Name: 6, dtype: object\n"
     ]
    }
   ],
   "source": [
    "#Repeat for the second dataset\n",
    "#Extract relavant rows\n",
    "#Years row 4\n",
    "years_2 = PCE_data2.iloc[3, 2:] \n",
    "\n",
    "\n",
    "#Months row 5\n",
    "months_2 = PCE_data2.iloc[4, 2:] \n",
    "\n",
    "\n",
    "#PCE row 7\n",
    "pce_values_2 = PCE_data2.iloc[6, 2:] \n",
    "\n",
    "#Ignore all other rows\n",
    "\n",
    "#Check the extracted data\n",
    "print(\"Years (PCE_data2):\\n\", years_2.head())\n",
    "print(\"Months (PCE_data2):\\n\", months_2.head())\n",
    "print(\"PCE Values (PCE_data2):\\n\", pce_values_2.head())"
   ]
  },
  {
   "cell_type": "code",
   "execution_count": 14,
   "metadata": {},
   "outputs": [
    {
     "name": "stdout",
     "output_type": "stream",
     "text": [
      "Mapped Months (PCE_data2):\n",
      " 2    01\n",
      "3    02\n",
      "4    03\n",
      "5    04\n",
      "6    05\n",
      "Name: 4, dtype: object\n",
      "Unmapped Months (NaN):\n",
      " Series([], Name: 4, dtype: object)\n"
     ]
    }
   ],
   "source": [
    "#Map months to numeric values\n",
    "months_numeric_2 = months_2.map(month_map)\n",
    "\n",
    "#Check mapping\n",
    "print(\"Mapped Months (PCE_data2):\\n\", months_numeric_2.head())\n",
    "print(\"Unmapped Months (NaN):\\n\", months_2[months_numeric_2.isna()])"
   ]
  },
  {
   "cell_type": "code",
   "execution_count": 15,
   "metadata": {},
   "outputs": [
    {
     "name": "stdout",
     "output_type": "stream",
     "text": [
      "Dates (PCE_data2):\n",
      " 2   1984-01-01\n",
      "3   1984-02-01\n",
      "4   1984-03-01\n",
      "5   1984-04-01\n",
      "6   1984-05-01\n",
      "dtype: datetime64[ns]\n",
      "Number of Invalid Dates (NaT):\n",
      " 0\n"
     ]
    }
   ],
   "source": [
    "#Combine years and months into date strings\n",
    "date_strings_2 = years_2 + '-' + months_numeric_2 + '-01'\n",
    "\n",
    "#Conver the date strings to datetime format\n",
    "dates_2 = pd.to_datetime(date_strings_2, format='%Y-%m-%d', errors='coerce')\n",
    "\n",
    "#Check the dates\n",
    "print(\"Dates (PCE_data2):\\n\", dates_2.head())\n",
    "print(\"Number of Invalid Dates (NaT):\\n\", dates_2.isna().sum())"
   ]
  },
  {
   "cell_type": "code",
   "execution_count": 16,
   "metadata": {},
   "outputs": [
    {
     "name": "stdout",
     "output_type": "stream",
     "text": [
      "        Date      PCE\n",
      "2 1984-01-01  2419379\n",
      "3 1984-02-01  2403535\n",
      "4 1984-03-01  2431581\n",
      "5 1984-04-01  2457516\n",
      "6 1984-05-01  2474478\n",
      "Shape of the cleaned DataFrame (PCE_data2): (490, 2)\n"
     ]
    }
   ],
   "source": [
    "#Create a new DataFrame with columns 'Date' and 'PCE'\n",
    "PCE_cleaned_2 = pd.DataFrame({\n",
    "    'Date': dates_2,\n",
    "    'PCE': pd.to_numeric(pce_values_2, errors='coerce')\n",
    "})\n",
    "\n",
    "#Drop rows with missing values\n",
    "PCE_cleaned_2 = PCE_cleaned_2.dropna()\n",
    "\n",
    "#Check the cleaned data\n",
    "print(PCE_cleaned_2.head())\n",
    "print(\"Shape of the cleaned DataFrame (PCE_data2):\", PCE_cleaned_2.shape)"
   ]
  },
  {
   "cell_type": "code",
   "execution_count": 17,
   "metadata": {},
   "outputs": [],
   "source": [
    "#Save the cleaned data\n",
    "output_path_2 = '../cleaned/PCE_cleaned_2.csv'\n",
    "PCE_cleaned_2.to_csv(output_path_2, index=False)"
   ]
  },
  {
   "cell_type": "code",
   "execution_count": 20,
   "metadata": {},
   "outputs": [
    {
     "name": "stdout",
     "output_type": "stream",
     "text": [
      "        Date     PCE\n",
      "0 1959-01-01  306091\n",
      "1 1959-02-01  309554\n",
      "2 1959-03-01  312702\n",
      "3 1959-04-01  312193\n",
      "4 1959-05-01  316130\n",
      "          Date       PCE\n",
      "785 2024-06-01  19747490\n",
      "786 2024-07-01  19859264\n",
      "787 2024-08-01  19898041\n",
      "788 2024-09-01  20027196\n",
      "789 2024-10-01  20099540\n",
      "Shape of the Combined DataFrame: (790, 2)\n"
     ]
    }
   ],
   "source": [
    "#Combine the two datasets\n",
    "Combined_PCE = pd.concat([PCE_cleaned, PCE_cleaned_2], ignore_index=True)\n",
    "\n",
    "#Sort the combined dataset by date\n",
    "Combined_PCE.sort_values(by='Date', inplace=True)\n",
    "\n",
    "#Check the combined DataFrame\n",
    "print(Combined_PCE.head())\n",
    "print(Combined_PCE.tail())\n",
    "print(\"Shape of the Combined DataFrame:\", Combined_PCE.shape)"
   ]
  },
  {
   "cell_type": "code",
   "execution_count": 21,
   "metadata": {},
   "outputs": [],
   "source": [
    "#Save the combined data\n",
    "output_path_combined = '../cleaned/PCE_combined.csv'\n",
    "Combined_PCE.to_csv(output_path_combined, index=False)"
   ]
  }
 ],
 "metadata": {
  "kernelspec": {
   "display_name": "dev1",
   "language": "python",
   "name": "python3"
  },
  "language_info": {
   "codemirror_mode": {
    "name": "ipython",
    "version": 3
   },
   "file_extension": ".py",
   "mimetype": "text/x-python",
   "name": "python",
   "nbconvert_exporter": "python",
   "pygments_lexer": "ipython3",
   "version": "3.12.4"
  }
 },
 "nbformat": 4,
 "nbformat_minor": 2
}
