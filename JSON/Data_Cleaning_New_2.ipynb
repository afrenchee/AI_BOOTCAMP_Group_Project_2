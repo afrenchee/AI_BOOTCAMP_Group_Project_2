{
 "cells": [
  {
   "cell_type": "code",
   "execution_count": 5,
   "metadata": {},
   "outputs": [],
   "source": [
    "#Import the necessary libraries\n",
    "#Import the necessary libraries\n",
    "import os\n",
    "import pandas as pd"
   ]
  },
  {
   "cell_type": "code",
   "execution_count": 6,
   "metadata": {},
   "outputs": [
    {
     "ename": "FileNotFoundError",
     "evalue": "[Errno 2] No such file or directory: '../raw/PCE_1959_1983.csv'",
     "output_type": "error",
     "traceback": [
      "\u001b[1;31m---------------------------------------------------------------------------\u001b[0m",
      "\u001b[1;31mFileNotFoundError\u001b[0m                         Traceback (most recent call last)",
      "Cell \u001b[1;32mIn[6], line 2\u001b[0m\n\u001b[0;32m      1\u001b[0m \u001b[38;5;66;03m#Load the data\u001b[39;00m\n\u001b[1;32m----> 2\u001b[0m PCE_data1 \u001b[38;5;241m=\u001b[39m pd\u001b[38;5;241m.\u001b[39mread_csv(\u001b[38;5;124m'\u001b[39m\u001b[38;5;124m../raw/PCE_1959_1983.csv\u001b[39m\u001b[38;5;124m'\u001b[39m, header\u001b[38;5;241m=\u001b[39m\u001b[38;5;28;01mNone\u001b[39;00m)\n\u001b[0;32m      3\u001b[0m PCE_data2 \u001b[38;5;241m=\u001b[39m pd\u001b[38;5;241m.\u001b[39mread_csv(\u001b[38;5;124m'\u001b[39m\u001b[38;5;124m../raw/PCE_1984_2024.csv\u001b[39m\u001b[38;5;124m'\u001b[39m, header\u001b[38;5;241m=\u001b[39m\u001b[38;5;28;01mNone\u001b[39;00m)\n\u001b[0;32m      5\u001b[0m \u001b[38;5;66;03m#Check the data\u001b[39;00m\n",
      "File \u001b[1;32mc:\\Users\\Johnathan\\anaconda3\\envs\\dev1\\Lib\\site-packages\\pandas\\io\\parsers\\readers.py:1026\u001b[0m, in \u001b[0;36mread_csv\u001b[1;34m(filepath_or_buffer, sep, delimiter, header, names, index_col, usecols, dtype, engine, converters, true_values, false_values, skipinitialspace, skiprows, skipfooter, nrows, na_values, keep_default_na, na_filter, verbose, skip_blank_lines, parse_dates, infer_datetime_format, keep_date_col, date_parser, date_format, dayfirst, cache_dates, iterator, chunksize, compression, thousands, decimal, lineterminator, quotechar, quoting, doublequote, escapechar, comment, encoding, encoding_errors, dialect, on_bad_lines, delim_whitespace, low_memory, memory_map, float_precision, storage_options, dtype_backend)\u001b[0m\n\u001b[0;32m   1013\u001b[0m kwds_defaults \u001b[38;5;241m=\u001b[39m _refine_defaults_read(\n\u001b[0;32m   1014\u001b[0m     dialect,\n\u001b[0;32m   1015\u001b[0m     delimiter,\n\u001b[1;32m   (...)\u001b[0m\n\u001b[0;32m   1022\u001b[0m     dtype_backend\u001b[38;5;241m=\u001b[39mdtype_backend,\n\u001b[0;32m   1023\u001b[0m )\n\u001b[0;32m   1024\u001b[0m kwds\u001b[38;5;241m.\u001b[39mupdate(kwds_defaults)\n\u001b[1;32m-> 1026\u001b[0m \u001b[38;5;28;01mreturn\u001b[39;00m _read(filepath_or_buffer, kwds)\n",
      "File \u001b[1;32mc:\\Users\\Johnathan\\anaconda3\\envs\\dev1\\Lib\\site-packages\\pandas\\io\\parsers\\readers.py:620\u001b[0m, in \u001b[0;36m_read\u001b[1;34m(filepath_or_buffer, kwds)\u001b[0m\n\u001b[0;32m    617\u001b[0m _validate_names(kwds\u001b[38;5;241m.\u001b[39mget(\u001b[38;5;124m\"\u001b[39m\u001b[38;5;124mnames\u001b[39m\u001b[38;5;124m\"\u001b[39m, \u001b[38;5;28;01mNone\u001b[39;00m))\n\u001b[0;32m    619\u001b[0m \u001b[38;5;66;03m# Create the parser.\u001b[39;00m\n\u001b[1;32m--> 620\u001b[0m parser \u001b[38;5;241m=\u001b[39m TextFileReader(filepath_or_buffer, \u001b[38;5;241m*\u001b[39m\u001b[38;5;241m*\u001b[39mkwds)\n\u001b[0;32m    622\u001b[0m \u001b[38;5;28;01mif\u001b[39;00m chunksize \u001b[38;5;129;01mor\u001b[39;00m iterator:\n\u001b[0;32m    623\u001b[0m     \u001b[38;5;28;01mreturn\u001b[39;00m parser\n",
      "File \u001b[1;32mc:\\Users\\Johnathan\\anaconda3\\envs\\dev1\\Lib\\site-packages\\pandas\\io\\parsers\\readers.py:1620\u001b[0m, in \u001b[0;36mTextFileReader.__init__\u001b[1;34m(self, f, engine, **kwds)\u001b[0m\n\u001b[0;32m   1617\u001b[0m     \u001b[38;5;28mself\u001b[39m\u001b[38;5;241m.\u001b[39moptions[\u001b[38;5;124m\"\u001b[39m\u001b[38;5;124mhas_index_names\u001b[39m\u001b[38;5;124m\"\u001b[39m] \u001b[38;5;241m=\u001b[39m kwds[\u001b[38;5;124m\"\u001b[39m\u001b[38;5;124mhas_index_names\u001b[39m\u001b[38;5;124m\"\u001b[39m]\n\u001b[0;32m   1619\u001b[0m \u001b[38;5;28mself\u001b[39m\u001b[38;5;241m.\u001b[39mhandles: IOHandles \u001b[38;5;241m|\u001b[39m \u001b[38;5;28;01mNone\u001b[39;00m \u001b[38;5;241m=\u001b[39m \u001b[38;5;28;01mNone\u001b[39;00m\n\u001b[1;32m-> 1620\u001b[0m \u001b[38;5;28mself\u001b[39m\u001b[38;5;241m.\u001b[39m_engine \u001b[38;5;241m=\u001b[39m \u001b[38;5;28mself\u001b[39m\u001b[38;5;241m.\u001b[39m_make_engine(f, \u001b[38;5;28mself\u001b[39m\u001b[38;5;241m.\u001b[39mengine)\n",
      "File \u001b[1;32mc:\\Users\\Johnathan\\anaconda3\\envs\\dev1\\Lib\\site-packages\\pandas\\io\\parsers\\readers.py:1880\u001b[0m, in \u001b[0;36mTextFileReader._make_engine\u001b[1;34m(self, f, engine)\u001b[0m\n\u001b[0;32m   1878\u001b[0m     \u001b[38;5;28;01mif\u001b[39;00m \u001b[38;5;124m\"\u001b[39m\u001b[38;5;124mb\u001b[39m\u001b[38;5;124m\"\u001b[39m \u001b[38;5;129;01mnot\u001b[39;00m \u001b[38;5;129;01min\u001b[39;00m mode:\n\u001b[0;32m   1879\u001b[0m         mode \u001b[38;5;241m+\u001b[39m\u001b[38;5;241m=\u001b[39m \u001b[38;5;124m\"\u001b[39m\u001b[38;5;124mb\u001b[39m\u001b[38;5;124m\"\u001b[39m\n\u001b[1;32m-> 1880\u001b[0m \u001b[38;5;28mself\u001b[39m\u001b[38;5;241m.\u001b[39mhandles \u001b[38;5;241m=\u001b[39m get_handle(\n\u001b[0;32m   1881\u001b[0m     f,\n\u001b[0;32m   1882\u001b[0m     mode,\n\u001b[0;32m   1883\u001b[0m     encoding\u001b[38;5;241m=\u001b[39m\u001b[38;5;28mself\u001b[39m\u001b[38;5;241m.\u001b[39moptions\u001b[38;5;241m.\u001b[39mget(\u001b[38;5;124m\"\u001b[39m\u001b[38;5;124mencoding\u001b[39m\u001b[38;5;124m\"\u001b[39m, \u001b[38;5;28;01mNone\u001b[39;00m),\n\u001b[0;32m   1884\u001b[0m     compression\u001b[38;5;241m=\u001b[39m\u001b[38;5;28mself\u001b[39m\u001b[38;5;241m.\u001b[39moptions\u001b[38;5;241m.\u001b[39mget(\u001b[38;5;124m\"\u001b[39m\u001b[38;5;124mcompression\u001b[39m\u001b[38;5;124m\"\u001b[39m, \u001b[38;5;28;01mNone\u001b[39;00m),\n\u001b[0;32m   1885\u001b[0m     memory_map\u001b[38;5;241m=\u001b[39m\u001b[38;5;28mself\u001b[39m\u001b[38;5;241m.\u001b[39moptions\u001b[38;5;241m.\u001b[39mget(\u001b[38;5;124m\"\u001b[39m\u001b[38;5;124mmemory_map\u001b[39m\u001b[38;5;124m\"\u001b[39m, \u001b[38;5;28;01mFalse\u001b[39;00m),\n\u001b[0;32m   1886\u001b[0m     is_text\u001b[38;5;241m=\u001b[39mis_text,\n\u001b[0;32m   1887\u001b[0m     errors\u001b[38;5;241m=\u001b[39m\u001b[38;5;28mself\u001b[39m\u001b[38;5;241m.\u001b[39moptions\u001b[38;5;241m.\u001b[39mget(\u001b[38;5;124m\"\u001b[39m\u001b[38;5;124mencoding_errors\u001b[39m\u001b[38;5;124m\"\u001b[39m, \u001b[38;5;124m\"\u001b[39m\u001b[38;5;124mstrict\u001b[39m\u001b[38;5;124m\"\u001b[39m),\n\u001b[0;32m   1888\u001b[0m     storage_options\u001b[38;5;241m=\u001b[39m\u001b[38;5;28mself\u001b[39m\u001b[38;5;241m.\u001b[39moptions\u001b[38;5;241m.\u001b[39mget(\u001b[38;5;124m\"\u001b[39m\u001b[38;5;124mstorage_options\u001b[39m\u001b[38;5;124m\"\u001b[39m, \u001b[38;5;28;01mNone\u001b[39;00m),\n\u001b[0;32m   1889\u001b[0m )\n\u001b[0;32m   1890\u001b[0m \u001b[38;5;28;01massert\u001b[39;00m \u001b[38;5;28mself\u001b[39m\u001b[38;5;241m.\u001b[39mhandles \u001b[38;5;129;01mis\u001b[39;00m \u001b[38;5;129;01mnot\u001b[39;00m \u001b[38;5;28;01mNone\u001b[39;00m\n\u001b[0;32m   1891\u001b[0m f \u001b[38;5;241m=\u001b[39m \u001b[38;5;28mself\u001b[39m\u001b[38;5;241m.\u001b[39mhandles\u001b[38;5;241m.\u001b[39mhandle\n",
      "File \u001b[1;32mc:\\Users\\Johnathan\\anaconda3\\envs\\dev1\\Lib\\site-packages\\pandas\\io\\common.py:873\u001b[0m, in \u001b[0;36mget_handle\u001b[1;34m(path_or_buf, mode, encoding, compression, memory_map, is_text, errors, storage_options)\u001b[0m\n\u001b[0;32m    868\u001b[0m \u001b[38;5;28;01melif\u001b[39;00m \u001b[38;5;28misinstance\u001b[39m(handle, \u001b[38;5;28mstr\u001b[39m):\n\u001b[0;32m    869\u001b[0m     \u001b[38;5;66;03m# Check whether the filename is to be opened in binary mode.\u001b[39;00m\n\u001b[0;32m    870\u001b[0m     \u001b[38;5;66;03m# Binary mode does not support 'encoding' and 'newline'.\u001b[39;00m\n\u001b[0;32m    871\u001b[0m     \u001b[38;5;28;01mif\u001b[39;00m ioargs\u001b[38;5;241m.\u001b[39mencoding \u001b[38;5;129;01mand\u001b[39;00m \u001b[38;5;124m\"\u001b[39m\u001b[38;5;124mb\u001b[39m\u001b[38;5;124m\"\u001b[39m \u001b[38;5;129;01mnot\u001b[39;00m \u001b[38;5;129;01min\u001b[39;00m ioargs\u001b[38;5;241m.\u001b[39mmode:\n\u001b[0;32m    872\u001b[0m         \u001b[38;5;66;03m# Encoding\u001b[39;00m\n\u001b[1;32m--> 873\u001b[0m         handle \u001b[38;5;241m=\u001b[39m \u001b[38;5;28mopen\u001b[39m(\n\u001b[0;32m    874\u001b[0m             handle,\n\u001b[0;32m    875\u001b[0m             ioargs\u001b[38;5;241m.\u001b[39mmode,\n\u001b[0;32m    876\u001b[0m             encoding\u001b[38;5;241m=\u001b[39mioargs\u001b[38;5;241m.\u001b[39mencoding,\n\u001b[0;32m    877\u001b[0m             errors\u001b[38;5;241m=\u001b[39merrors,\n\u001b[0;32m    878\u001b[0m             newline\u001b[38;5;241m=\u001b[39m\u001b[38;5;124m\"\u001b[39m\u001b[38;5;124m\"\u001b[39m,\n\u001b[0;32m    879\u001b[0m         )\n\u001b[0;32m    880\u001b[0m     \u001b[38;5;28;01melse\u001b[39;00m:\n\u001b[0;32m    881\u001b[0m         \u001b[38;5;66;03m# Binary mode\u001b[39;00m\n\u001b[0;32m    882\u001b[0m         handle \u001b[38;5;241m=\u001b[39m \u001b[38;5;28mopen\u001b[39m(handle, ioargs\u001b[38;5;241m.\u001b[39mmode)\n",
      "\u001b[1;31mFileNotFoundError\u001b[0m: [Errno 2] No such file or directory: '../raw/PCE_1959_1983.csv'"
     ]
    }
   ],
   "source": [
    "#Load the data\n",
    "PCE_data1 = pd.read_csv('../raw/PCE_1959_1983.csv', header=None)\n",
    "PCE_data2 = pd.read_csv('../raw/PCE_1984_2024.csv', header=None)\n",
    "\n",
    "#Check the data\n",
    "print(PCE_data1.head(10))\n",
    "print(PCE_data2.head(10))"
   ]
  },
  {
   "cell_type": "code",
   "execution_count": null,
   "metadata": {},
   "outputs": [
    {
     "name": "stdout",
     "output_type": "stream",
     "text": [
      "years:\n",
      " 2    1959\n",
      "3    1959\n",
      "4    1959\n",
      "5    1959\n",
      "6    1959\n",
      "Name: 3, dtype: object\n",
      "months:\n",
      " 2    JAN\n",
      "3    FEB\n",
      "4    MAR\n",
      "5    APR\n",
      "6    MAY\n",
      "Name: 4, dtype: object\n",
      "pce_values:\n",
      " 2    306091\n",
      "3    309554\n",
      "4    312702\n",
      "5    312193\n",
      "6    316130\n",
      "Name: 6, dtype: object\n"
     ]
    }
   ],
   "source": [
    "#Extract relavant rows\n",
    "#Years row 4\n",
    "years = PCE_data1.iloc[3, 2:]\n",
    "\n",
    "\n",
    "#Months row 5\n",
    "months = PCE_data1.iloc[4, 2:]\n",
    "\n",
    "\n",
    "#PCE row 7\n",
    "pce_values = PCE_data1.iloc[6, 2:]\n",
    "\n",
    "#Ignore all other rows\n",
    "\n",
    "#Check the extracted data\n",
    "print(\"years:\\n\", years.head())\n",
    "print(\"months:\\n\", months.head())\n",
    "print(\"pce_values:\\n\", pce_values.head())"
   ]
  },
  {
   "cell_type": "code",
   "execution_count": null,
   "metadata": {},
   "outputs": [
    {
     "name": "stdout",
     "output_type": "stream",
     "text": [
      "Mapped Months (numeric):\n",
      " 2    01\n",
      "3    02\n",
      "4    03\n",
      "5    04\n",
      "6    05\n",
      "Name: 4, dtype: object\n",
      "Unmapped Months (NaN):\n",
      " Series([], Name: 4, dtype: object)\n"
     ]
    }
   ],
   "source": [
    "#Combine year and month to create a date column\n",
    "#Convert month names to numeric values using mapping dictionary\n",
    "month_map = {\n",
    "    'JAN': '01', 'FEB': '02', 'MAR': '03', 'APR': '04',\n",
    "    'MAY': '05', 'JUN': '06', 'JUL': '07', 'AUG': '08',\n",
    "    'SEP': '09', 'OCT': '10', 'NOV': '11', 'DEC': '12'\n",
    "}\n",
    "#Map months to numeric values\n",
    "months_numeric = months.map(month_map)\n",
    "\n",
    "#Combine Year and Month into datetime format ex: 01/01/1959 for January 1959 and assign it to a new column called 'Date'\n",
    "dates = pd.to_datetime(\n",
    "    pd.DataFrame({'year': years, 'month': months_numeric, 'day': '01'}),\n",
    "    errors='coerce'\n",
    ")\n",
    "#Check mapping\n",
    "print(\"Mapped Months (numeric):\\n\", months_numeric.head())\n",
    "print(\"Unmapped Months (NaN):\\n\", months[months_numeric.isna()])"
   ]
  },
  {
   "cell_type": "code",
   "execution_count": null,
   "metadata": {},
   "outputs": [
    {
     "name": "stdout",
     "output_type": "stream",
     "text": [
      "Date Strings:\n",
      " 2    1959-01-01\n",
      "3    1959-02-01\n",
      "4    1959-03-01\n",
      "5    1959-04-01\n",
      "6    1959-05-01\n",
      "dtype: object\n"
     ]
    }
   ],
   "source": [
    "#Combine years and months into date strings\n",
    "date_strings = years + '-' + months_numeric + '-01'\n",
    "\n",
    "#Check the date strings\n",
    "print(\"Date Strings:\\n\", date_strings.head())"
   ]
  },
  {
   "cell_type": "code",
   "execution_count": null,
   "metadata": {},
   "outputs": [
    {
     "name": "stdout",
     "output_type": "stream",
     "text": [
      "Dates:\n",
      " 2   1959-01-01\n",
      "3   1959-02-01\n",
      "4   1959-03-01\n",
      "5   1959-04-01\n",
      "6   1959-05-01\n",
      "dtype: datetime64[ns]\n",
      "Number of invalid dates (NaT):\n",
      " 0\n"
     ]
    }
   ],
   "source": [
    "#Conver the date strings to datetime format\n",
    "dates = pd.to_datetime(date_strings, format='%Y-%m-%d', errors='coerce')\n",
    "\n",
    "#Check the dates\n",
    "print(\"Dates:\\n\", dates.head())\n",
    "print(\"Number of invalid dates (NaT):\\n\", dates.isna().sum())"
   ]
  },
  {
   "cell_type": "code",
   "execution_count": null,
   "metadata": {},
   "outputs": [
    {
     "name": "stdout",
     "output_type": "stream",
     "text": [
      "        Date     PCE\n",
      "2 1959-01-01  306091\n",
      "3 1959-02-01  309554\n",
      "4 1959-03-01  312702\n",
      "5 1959-04-01  312193\n",
      "6 1959-05-01  316130\n",
      "Shape of the cleaned DataFrame: (300, 2)\n"
     ]
    }
   ],
   "source": [
    "#Create a new DataFrame with columns 'Date' and 'PCE'\n",
    "PCE_cleaned = pd.DataFrame({\n",
    "    'Date': dates,\n",
    "    'PCE': pd.to_numeric(pce_values, errors='coerce')\n",
    "})\n",
    "#Drop rows with missing values\n",
    "PCE_cleaned = PCE_cleaned.dropna()\n",
    "\n",
    "#Check the cleaned data\n",
    "print(PCE_cleaned.head())\n",
    "print(\"Shape of the cleaned DataFrame:\", PCE_cleaned.shape)"
   ]
  },
  {
   "cell_type": "code",
   "execution_count": null,
   "metadata": {},
   "outputs": [],
   "source": [
    "#Save the cleaned data\n",
    "output_path = '../cleaned/PCE_cleaned.csv'\n",
    "PCE_cleaned.to_csv(output_path, index=False)"
   ]
  },
  {
   "cell_type": "code",
   "execution_count": null,
   "metadata": {},
   "outputs": [
    {
     "name": "stdout",
     "output_type": "stream",
     "text": [
      "Years:\n",
      " 2    1959\n",
      "3    1959\n",
      "4    1959\n",
      "5    1959\n",
      "6    1959\n",
      "Name: 3, dtype: object\n",
      "Unique Years:\n",
      " ['1959' '1960' '1961' '1962' '1963' '1964' '1965' '1966' '1967' '1968'\n",
      " '1969' '1970' '1971' '1972' '1973' '1974' '1975' '1976' '1977' '1978'\n",
      " '1979' '1980' '1981' '1982' '1983']\n",
      "Data type of 'years': object\n"
     ]
    }
   ],
   "source": [
    "#Error Checking\n",
    "print(\"Years:\\n\", years.head())\n",
    "print(\"Unique Years:\\n\", years.unique())\n",
    "print(\"Data type of 'years':\", years.dtype)"
   ]
  },
  {
   "cell_type": "code",
   "execution_count": null,
   "metadata": {},
   "outputs": [
    {
     "name": "stdout",
     "output_type": "stream",
     "text": [
      "Months (numeric):\n",
      " 2    01\n",
      "3    02\n",
      "4    03\n",
      "5    04\n",
      "6    05\n",
      "Name: 4, dtype: object\n",
      "Unique Months:\n",
      " ['01' '02' '03' '04' '05' '06' '07' '08' '09' '10' '11' '12']\n",
      "Data type of 'months_numeric': object\n"
     ]
    }
   ],
   "source": [
    "#Error Checking\n",
    "print(\"Months (numeric):\\n\", months_numeric.head())\n",
    "print(\"Unique Months:\\n\", months_numeric.unique())\n",
    "print(\"Data type of 'months_numeric':\", months_numeric.dtype)"
   ]
  },
  {
   "cell_type": "code",
   "execution_count": null,
   "metadata": {},
   "outputs": [
    {
     "name": "stdout",
     "output_type": "stream",
     "text": [
      "Months (raw):\n",
      " 2    JAN\n",
      "3    FEB\n",
      "4    MAR\n",
      "5    APR\n",
      "6    MAY\n",
      "Name: 4, dtype: object\n",
      "Unique Months (raw):\n",
      " ['JAN' 'FEB' 'MAR' 'APR' 'MAY' 'JUN' 'JUL' 'AUG' 'SEP' 'OCT' 'NOV' 'DEC']\n"
     ]
    }
   ],
   "source": [
    "#Months error checking\n",
    "print(\"Months (raw):\\n\", months.head())\n",
    "print(\"Unique Months (raw):\\n\", months.unique())"
   ]
  },
  {
   "cell_type": "code",
   "execution_count": null,
   "metadata": {},
   "outputs": [
    {
     "name": "stdout",
     "output_type": "stream",
     "text": [
      "Length of years: 300\n",
      "Length of months_numeric: 300\n"
     ]
    }
   ],
   "source": [
    "#Error Checking\n",
    "# Check lengths\n",
    "print(\"Length of years:\", len(years))\n",
    "print(\"Length of months_numeric:\", len(months_numeric))"
   ]
  },
  {
   "cell_type": "code",
   "execution_count": null,
   "metadata": {},
   "outputs": [
    {
     "name": "stdout",
     "output_type": "stream",
     "text": [
      "Years (PCE_data2):\n",
      " 2    1984\n",
      "3    1984\n",
      "4    1984\n",
      "5    1984\n",
      "6    1984\n",
      "Name: 3, dtype: object\n",
      "Months (PCE_data2):\n",
      " 2    JAN\n",
      "3    FEB\n",
      "4    MAR\n",
      "5    APR\n",
      "6    MAY\n",
      "Name: 4, dtype: object\n",
      "PCE Values (PCE_data2):\n",
      " 2    2419379\n",
      "3    2403535\n",
      "4    2431581\n",
      "5    2457516\n",
      "6    2474478\n",
      "Name: 6, dtype: object\n"
     ]
    }
   ],
   "source": [
    "#Repeat for the second dataset\n",
    "#Extract relavant rows\n",
    "#Years row 4\n",
    "years_2 = PCE_data2.iloc[3, 2:] \n",
    "\n",
    "\n",
    "#Months row 5\n",
    "months_2 = PCE_data2.iloc[4, 2:] \n",
    "\n",
    "\n",
    "#PCE row 7\n",
    "pce_values_2 = PCE_data2.iloc[6, 2:] \n",
    "\n",
    "#Ignore all other rows\n",
    "\n",
    "#Check the extracted data\n",
    "print(\"Years (PCE_data2):\\n\", years_2.head())\n",
    "print(\"Months (PCE_data2):\\n\", months_2.head())\n",
    "print(\"PCE Values (PCE_data2):\\n\", pce_values_2.head())"
   ]
  },
  {
   "cell_type": "code",
   "execution_count": null,
   "metadata": {},
   "outputs": [
    {
     "name": "stdout",
     "output_type": "stream",
     "text": [
      "Mapped Months (PCE_data2):\n",
      " 2    01\n",
      "3    02\n",
      "4    03\n",
      "5    04\n",
      "6    05\n",
      "Name: 4, dtype: object\n",
      "Unmapped Months (NaN):\n",
      " Series([], Name: 4, dtype: object)\n"
     ]
    }
   ],
   "source": [
    "#Map months to numeric values\n",
    "months_numeric_2 = months_2.map(month_map)\n",
    "\n",
    "#Check mapping\n",
    "print(\"Mapped Months (PCE_data2):\\n\", months_numeric_2.head())\n",
    "print(\"Unmapped Months (NaN):\\n\", months_2[months_numeric_2.isna()])"
   ]
  },
  {
   "cell_type": "code",
   "execution_count": null,
   "metadata": {},
   "outputs": [
    {
     "name": "stdout",
     "output_type": "stream",
     "text": [
      "Dates (PCE_data2):\n",
      " 2   1984-01-01\n",
      "3   1984-02-01\n",
      "4   1984-03-01\n",
      "5   1984-04-01\n",
      "6   1984-05-01\n",
      "dtype: datetime64[ns]\n",
      "Number of Invalid Dates (NaT):\n",
      " 0\n"
     ]
    }
   ],
   "source": [
    "#Combine years and months into date strings\n",
    "date_strings_2 = years_2 + '-' + months_numeric_2 + '-01'\n",
    "\n",
    "#Conver the date strings to datetime format\n",
    "dates_2 = pd.to_datetime(date_strings_2, format='%Y-%m-%d', errors='coerce')\n",
    "\n",
    "#Check the dates\n",
    "print(\"Dates (PCE_data2):\\n\", dates_2.head())\n",
    "print(\"Number of Invalid Dates (NaT):\\n\", dates_2.isna().sum())"
   ]
  },
  {
   "cell_type": "code",
   "execution_count": null,
   "metadata": {},
   "outputs": [
    {
     "name": "stdout",
     "output_type": "stream",
     "text": [
      "        Date      PCE\n",
      "2 1984-01-01  2419379\n",
      "3 1984-02-01  2403535\n",
      "4 1984-03-01  2431581\n",
      "5 1984-04-01  2457516\n",
      "6 1984-05-01  2474478\n",
      "Shape of the cleaned DataFrame (PCE_data2): (490, 2)\n"
     ]
    }
   ],
   "source": [
    "#Create a new DataFrame with columns 'Date' and 'PCE'\n",
    "PCE_cleaned_2 = pd.DataFrame({\n",
    "    'Date': dates_2,\n",
    "    'PCE': pd.to_numeric(pce_values_2, errors='coerce')\n",
    "})\n",
    "\n",
    "#Drop rows with missing values\n",
    "PCE_cleaned_2 = PCE_cleaned_2.dropna()\n",
    "\n",
    "#Check the cleaned data\n",
    "print(PCE_cleaned_2.head())\n",
    "print(\"Shape of the cleaned DataFrame (PCE_data2):\", PCE_cleaned_2.shape)"
   ]
  },
  {
   "cell_type": "code",
   "execution_count": null,
   "metadata": {},
   "outputs": [],
   "source": [
    "#Save the cleaned data\n",
    "output_path_2 = '../cleaned/PCE_cleaned_2.csv'\n",
    "PCE_cleaned_2.to_csv(output_path_2, index=False)"
   ]
  },
  {
   "cell_type": "code",
   "execution_count": null,
   "metadata": {},
   "outputs": [
    {
     "name": "stdout",
     "output_type": "stream",
     "text": [
      "        Date     PCE\n",
      "0 1959-01-01  306091\n",
      "1 1959-02-01  309554\n",
      "2 1959-03-01  312702\n",
      "3 1959-04-01  312193\n",
      "4 1959-05-01  316130\n",
      "          Date       PCE\n",
      "785 2024-06-01  19747490\n",
      "786 2024-07-01  19859264\n",
      "787 2024-08-01  19898041\n",
      "788 2024-09-01  20027196\n",
      "789 2024-10-01  20099540\n",
      "Shape of the Combined DataFrame: (790, 2)\n"
     ]
    }
   ],
   "source": [
    "#Combine the two datasets\n",
    "Combined_PCE = pd.concat([PCE_cleaned, PCE_cleaned_2], ignore_index=True)\n",
    "\n",
    "#Sort the combined dataset by date\n",
    "Combined_PCE.sort_values(by='Date', inplace=True)\n",
    "\n",
    "#Check the combined DataFrame\n",
    "print(Combined_PCE.head())\n",
    "print(Combined_PCE.tail())\n",
    "print(\"Shape of the Combined DataFrame:\", Combined_PCE.shape)"
   ]
  },
  {
   "cell_type": "code",
   "execution_count": null,
   "metadata": {},
   "outputs": [],
   "source": [
    "#Check the Date column data type\n",
    "print(\"Data type of 'Date':\", Combined_PCE['Date'].dtype)"
   ]
  },
  {
   "cell_type": "code",
   "execution_count": null,
   "metadata": {},
   "outputs": [],
   "source": [
    "#Save the combined data\n",
    "output_path_combined = '../cleaned/PCE_combined.csv'\n",
    "Combined_PCE.to_csv(output_path_combined, index=False)"
   ]
  }
 ],
 "metadata": {
  "kernelspec": {
   "display_name": "dev1",
   "language": "python",
   "name": "python3"
  },
  "language_info": {
   "codemirror_mode": {
    "name": "ipython",
    "version": 3
   },
   "file_extension": ".py",
   "mimetype": "text/x-python",
   "name": "python",
   "nbconvert_exporter": "python",
   "pygments_lexer": "ipython3",
   "version": "3.12.4"
  }
 },
 "nbformat": 4,
 "nbformat_minor": 2
}
